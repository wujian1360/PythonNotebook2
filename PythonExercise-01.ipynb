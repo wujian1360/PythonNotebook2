{
 "cells": [
  {
   "cell_type": "markdown",
   "metadata": {},
   "source": [
    "### 练习题01\n",
    "- Python是一种高级语言\n",
    "- BIF就是内建函数，Python一共有68个内建函数\n",
    "- Python是区分大小写的。\"TUling\"与\"tuling\"是不一样的\n",
    "- \"=\"和\"==\"的区别，前者是赋值，后者是条件判断\n",
    "- [Linux必须掌握的十条命令](https://www.cnblogs.com/waitig/p/5880719.html)"
   ]
  },
  {
   "cell_type": "code",
   "execution_count": 4,
   "metadata": {},
   "outputs": [
    {
     "name": "stdout",
     "output_type": "stream",
     "text": [
      "请输入你的姓名:wujian\n",
      "你好,wujian\n"
     ]
    }
   ],
   "source": [
    "# 编写程序，要求用户输入“姓名”并打印“你好，姓名”\n",
    "name = input(\"请输入你的姓名:\")\n",
    "print(\"你好,\" + name)"
   ]
  },
  {
   "cell_type": "code",
   "execution_count": 21,
   "metadata": {},
   "outputs": [
    {
     "name": "stdout",
     "output_type": "stream",
     "text": [
      "请输入0-100的整数：1\n",
      "ok\n"
     ]
    }
   ],
   "source": [
    "# 编写程序判断用户输入的数字是否整数\n",
    "\n",
    "number = input(\"请输入0-100的整数：\")\n",
    "\n",
    "if number.isdigit():# 判断是否都是数字\n",
    "    number = int(number)\n",
    "    if 1 <= number <= 100:\n",
    "        print(\"ok\")\n",
    "    else:\n",
    "        print(\"no,你不在范围内，你不符合要求\")\n",
    "else:\n",
    "    print(\"你可能不是数字\")\n",
    "    \n"
   ]
  },
  {
   "cell_type": "code",
   "execution_count": null,
   "metadata": {
    "collapsed": true
   },
   "outputs": [],
   "source": [
    "# 10 < cost < 50的等价表达式\n",
    "# 使用int()将小数转换成整数，结果是向上取整还是向下取整？"
   ]
  },
  {
   "cell_type": "code",
   "execution_count": 26,
   "metadata": {},
   "outputs": [
    {
     "data": {
      "text/plain": [
       "True"
      ]
     },
     "execution_count": 26,
     "metadata": {},
     "output_type": "execute_result"
    }
   ],
   "source": [
    "cost = 40\n",
    "#(10<cost) and (cost<50)\n",
    "10 < cost < 50"
   ]
  },
  {
   "cell_type": "code",
   "execution_count": 24,
   "metadata": {},
   "outputs": [
    {
     "data": {
      "text/plain": [
       "3"
      ]
     },
     "execution_count": 24,
     "metadata": {},
     "output_type": "execute_result"
    }
   ],
   "source": [
    "# 向下取整\n",
    "int(3.14)"
   ]
  },
  {
   "cell_type": "code",
   "execution_count": 29,
   "metadata": {},
   "outputs": [
    {
     "name": "stdout",
     "output_type": "stream",
     "text": [
      "请输入：dskdsk\n",
      "你输入的不是年份\n"
     ]
    }
   ],
   "source": [
    "# 编程实现判断给定年份是否为闰年\n",
    "# 闰年的定义：能够被4整除的年份\n",
    "\n",
    "y = input(\"请输入：\")\n",
    "\n",
    "if y.isdigit():\n",
    "    y = int(y)\n",
    "    if y%4 == 0:\n",
    "        print(\"闰年\")\n",
    "    else:\n",
    "        print(\"no\")\n",
    "else:\n",
    "    print(\"你输入的不是年份\")"
   ]
  },
  {
   "cell_type": "code",
   "execution_count": 6,
   "metadata": {},
   "outputs": [
    {
     "name": "stdout",
     "output_type": "stream",
     "text": [
      "请输入数字50\n",
      "你输入偏小\n",
      "63\n",
      "请输入数字55\n",
      "你输入偏小\n",
      "63\n",
      "请输入数字63\n",
      "ok\n"
     ]
    }
   ],
   "source": [
    "# 给用户三次机会，机会用尽则输掉。猜想我们程序生成的一个数字A，每次会提示是否正确，以及是大于A还是小于A，当机会用尽后提示用户输掉游戏。\n",
    "import random\n",
    "secert = random.randint(1,100)\n",
    "times = 3 # 三次机会\n",
    "\n",
    "while times:\n",
    "    num = input(\"请输入数字\")\n",
    "    if num.isdigit():\n",
    "        tmp = int(num)\n",
    "        if tmp == secert:\n",
    "            print(\"ok\")\n",
    "            break\n",
    "        elif tmp < secert:\n",
    "            times = times - 1\n",
    "            print(\"你输入偏小\")\n",
    "            print(secert)\n",
    "        else:\n",
    "            print(\"你的数字太大了\")\n",
    "            times = times - 1\n",
    "    else:\n",
    "        print(\"不是数字\")\n",
    "        \n",
    "    if times == 0:\n",
    "        print(\"你的机会用完了\")"
   ]
  },
  {
   "cell_type": "code",
   "execution_count": 31,
   "metadata": {},
   "outputs": [
    {
     "name": "stdout",
     "output_type": "stream",
     "text": [
      "1\n",
      "3\n",
      "5\n",
      "7\n",
      "9\n"
     ]
    }
   ],
   "source": [
    "# 打印0-100所有奇数。\n",
    "\n",
    "\n",
    "for i in range(0,11):\n",
    "    if i%2 == 1:\n",
    "        print(i)\n",
    "    else:\n",
    "        pass\n"
   ]
  },
  {
   "cell_type": "code",
   "execution_count": 48,
   "metadata": {},
   "outputs": [
    {
     "name": "stdout",
     "output_type": "stream",
     "text": [
      "答案是:119\n",
      "答案是:329\n",
      "答案是:539\n",
      "答案是:749\n",
      "答案是:959\n"
     ]
    }
   ],
   "source": [
    "# 爱因斯坦出过的数学题：有一个长梯。编程求该阶梯至少有多少阶。\n",
    "# 若每步上2阶，最后剩余1阶；如果每步上3阶，最后剩2阶，\n",
    "# 若每步上5阶，最后剩4阶；若每步上6阶，最后剩5阶，\n",
    "# 只有每步上七阶，最后刚好刚好不剩。\n",
    "\n",
    "for i in range(1000):\n",
    "    if (i%7==0) and (i%6==5) and \\\n",
    "       (i%5==4) and (i%3==2) and \\\n",
    "       (i%2==1):\n",
    "        print(\"答案是:{0}\".format(i))\n",
    "        '''\n",
    "        print(\"每步上7阶，最后剩余{0}\".format(i%7))\n",
    "        print(\"每步上6阶，最后剩余{0}\".format(i%6))\n",
    "        print(\"每步上5阶，最后剩余{0}\".format(i%5))\n",
    "        print(\"每步上4阶，最后剩余{0}\".format(i%4))\n",
    "        print(\"每步上3阶，最后剩余{0}\".format(i%3))\n",
    "        print(\"每步上2阶，最后剩余{0}\".format(i%2))\n",
    "        \n",
    "        '''\n",
    "        #print(\"循环结束\")\n",
    "        #break"
   ]
  },
  {
   "cell_type": "code",
   "execution_count": null,
   "metadata": {
    "collapsed": true
   },
   "outputs": [],
   "source": [
    "# 这行代码是什么意思？\n",
    "# if not (money<100)\n",
    "# 等价于：\n",
    "# if (money>=100)"
   ]
  },
  {
   "cell_type": "code",
   "execution_count": 3,
   "metadata": {},
   "outputs": [
    {
     "name": "stdout",
     "output_type": "stream",
     "text": [
      "1 2 3\n",
      "2 3 1\n"
     ]
    }
   ],
   "source": [
    "# 如何将x=1,y=2,z=3，如何快速将三个变量的值交换\n",
    "\n",
    "x = 1\n",
    "y = 2\n",
    "z = 3\n",
    "print('{0} {1} {2}'.format(x,y,z))\n",
    "x,y,z = z,x,y #直接交换\n",
    "print('{0} {1} {2}'.format(z,x,y))"
   ]
  },
  {
   "cell_type": "code",
   "execution_count": 6,
   "metadata": {},
   "outputs": [
    {
     "name": "stdout",
     "output_type": "stream",
     "text": [
      "1\n",
      "0\n"
     ]
    }
   ],
   "source": [
    "# 成员资格运算符'in'的用法\n",
    "\n",
    "ls = range(100)\n",
    "if 99 in ls:\n",
    "    print(True)\n",
    "else:\n",
    "    print(False)\n",
    "    \n",
    "if not 99 in ls:\n",
    "    print(True)\n",
    "else:\n",
    "    print(False)"
   ]
  },
  {
   "cell_type": "code",
   "execution_count": 8,
   "metadata": {},
   "outputs": [
    {
     "name": "stdout",
     "output_type": "stream",
     "text": [
      "0\n",
      "2\n",
      "4\n",
      "6\n",
      "8\n"
     ]
    }
   ],
   "source": [
    "range(0,100,2) # 起始位置，终点位置，步幅\n",
    "for i in range(0,10,2):\n",
    "    print(i)"
   ]
  },
  {
   "cell_type": "code",
   "execution_count": 9,
   "metadata": {},
   "outputs": [
    {
     "name": "stdout",
     "output_type": "stream",
     "text": [
      "2\n",
      "3\n"
     ]
    }
   ],
   "source": [
    "while True:\n",
    "    while True:\n",
    "        break\n",
    "        print(1)\n",
    "    print(2)\n",
    "    break\n",
    "print(3)"
   ]
  },
  {
   "cell_type": "code",
   "execution_count": 21,
   "metadata": {},
   "outputs": [
    {
     "name": "stdout",
     "output_type": "stream",
     "text": [
      "0\n",
      "1\n",
      "2\n",
      "3\n",
      "4\n",
      "5\n",
      "====================\n",
      "0\n",
      "1\n",
      "2\n",
      "3\n",
      "4\n",
      "5\n"
     ]
    }
   ],
   "source": [
    "i = 0\n",
    "s = 'wujian'\n",
    "while i < len(s):\n",
    "    print(i)\n",
    "    i += 1\n",
    "    \n",
    "print('=='*10)\n",
    "\n",
    "# 换一种写法，避免重复计算\n",
    "\n",
    "le = len(s)\n",
    "for i in range(le):\n",
    "    print(i)"
   ]
  },
  {
   "cell_type": "code",
   "execution_count": 24,
   "metadata": {},
   "outputs": [
    {
     "name": "stdout",
     "output_type": "stream",
     "text": [
      "请输入：123\n",
      "错误\n",
      "请输入：22\n",
      "错误\n",
      "请输入：*\n",
      "密码中不能包含*!\n",
      "请输入：abc012\n",
      "正确\n"
     ]
    }
   ],
   "source": [
    "# 设计一个验证用户密码的程序，用户只有三次错误的机会，不过如果用户输入的内容包括‘*’则不计算在内\n",
    "\n",
    "password= 'abc012'\n",
    "times = 3\n",
    "while times:   # 这里简单写成这样，表示直到times为0，才停止循环。times递减逐渐会变成0\n",
    "    input_password = input('请输入：')\n",
    "    if '*' in input_password:\n",
    "        print('密码中不能包含*!')\n",
    "    elif input_password == password:\n",
    "        print('正确')\n",
    "        break\n",
    "    else:\n",
    "        print('错误')\n",
    "        times -= 1\n",
    "\n",
    "    \n"
   ]
  },
  {
   "cell_type": "code",
   "execution_count": null,
   "metadata": {
    "collapsed": true
   },
   "outputs": [],
   "source": []
  }
 ],
 "metadata": {
  "kernelspec": {
   "display_name": "Python 3",
   "language": "python",
   "name": "python3"
  },
  "language_info": {
   "codemirror_mode": {
    "name": "ipython",
    "version": 3
   },
   "file_extension": ".py",
   "mimetype": "text/x-python",
   "name": "python",
   "nbconvert_exporter": "python",
   "pygments_lexer": "ipython3",
   "version": "3.6.3"
  }
 },
 "nbformat": 4,
 "nbformat_minor": 2
}
