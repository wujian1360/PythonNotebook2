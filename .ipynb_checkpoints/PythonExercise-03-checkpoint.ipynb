{
 "cells": [
  {
   "cell_type": "markdown",
   "metadata": {},
   "source": [
    "### 定义一个元组\n",
    "- 单个元素\n",
    "- 多个元素"
   ]
  },
  {
   "cell_type": "code",
   "execution_count": null,
   "metadata": {},
   "outputs": [],
   "source": [
    "a = (1,2,3)\n",
    "b(2,)"
   ]
  },
  {
   "cell_type": "markdown",
   "metadata": {},
   "source": [
    "### 下面场景应该使用列表还是元组来保存数据\n",
    "- 游戏角色的属性:   元组\n",
    "- 某购物网站的商品信息（图片、价格、介绍等）：  列表\n",
    "- 动车组各组件的具体配置参数：  元组\n",
    "- 你发送给数码城的电脑配置清单：  元组，列表\n",
    "- 你的身份证信息：元组"
   ]
  },
  {
   "cell_type": "markdown",
   "metadata": {},
   "source": [
    "### 增加一点内容，按格式输出\n",
    "“鹅鹅鹅\n",
    "曲项向天歌\n",
    "白毛浮绿水\n",
    "红掌拨清波”"
   ]
  },
  {
   "cell_type": "code",
   "execution_count": 1,
   "metadata": {},
   "outputs": [
    {
     "name": "stdout",
     "output_type": "stream",
     "text": [
      "\n",
      "鹅鹅鹅\n",
      "曲项向天歌\n",
      "白毛浮绿水\n",
      "红掌拨清波\n",
      "\n"
     ]
    }
   ],
   "source": [
    "shi = '''\n",
    "鹅鹅鹅\n",
    "曲项向天歌\n",
    "白毛浮绿水\n",
    "红掌拨清波\n",
    "'''\n",
    "\n",
    "print(shi)"
   ]
  },
  {
   "cell_type": "markdown",
   "metadata": {},
   "source": [
    "### 写一个程序来管理用于登录系统的用户信息：\n",
    "- 登录名字和密码。登录用户账号建立后，已存在用户可以用登录名字和密码重返系统，新用户能用别人的用户名建立用户账号。"
   ]
  },
  {
   "cell_type": "code",
   "execution_count": 20,
   "metadata": {},
   "outputs": [
    {
     "name": "stdout",
     "output_type": "stream",
     "text": [
      "抱歉，你尚未注册\n"
     ]
    }
   ],
   "source": [
    "userNamesDate = {'mike':'123','jack':'wu178','sarah':'678'}\n",
    "# print(userNamesDate)\n",
    "\n",
    "def createUser(username,passworld):\n",
    "    '''\n",
    "    username:用户自定义的用户名\n",
    "    password:用户登陆的密码\n",
    "    '''\n",
    "    # 判断用户的名字是否已被注册\n",
    "    # 先取到数据库字典dict\n",
    "    usernames = userNamesDate\n",
    "    \n",
    "    if username in usernames.keys():\n",
    "        print('该用户名已被注册')\n",
    "    else:\n",
    "        # 如果没有没被注册就添加进数据库\n",
    "        # 实际情况是要长期存储到数据库的\n",
    "        usernames[username] = passworld\n",
    "        print(userNamesDate)\n",
    "\n",
    "# createUser('mike','123')\n",
    "    \n",
    "    \n",
    "def login(username,password):\n",
    "    '''\n",
    "    username:用户登录的用户名\n",
    "    password:用户登陆的密码\n",
    "    '''\n",
    "    usernames = userNamesDate\n",
    "    \n",
    "    if username not in usernames.keys():\n",
    "        print('抱歉，你尚未注册')\n",
    "    elif password != usernames[username]:\n",
    "        print('你输入的密码错误')\n",
    "    else:\n",
    "        print('恭喜你登陆成功')\n",
    "        \n",
    "        \n",
    "login('joo','333')\n",
    "    "
   ]
  },
  {
   "cell_type": "code",
   "execution_count": 1,
   "metadata": {},
   "outputs": [
    {
     "name": "stdout",
     "output_type": "stream",
     "text": [
      "请输入您的用户名和密码登录\n",
      "用户名：wujian\n",
      "密码：345\n",
      "抱歉，你尚未注册!\n",
      "请输入用户名：wujian345\n",
      "请输入您的密码：345\n",
      "{'mike': '123', 'jack': 'wu178', 'sarah': '678', 'wujian345': '345'}\n"
     ]
    }
   ],
   "source": [
    "# 两者的结合使用，\n",
    "# 1、用户登录\n",
    "# 2、注册\n",
    "# 3、存储数据\n",
    "userNamesDate = {'mike':'123','jack':'wu178','sarah':'678'}\n",
    "\n",
    "def createUser(username,passworld):\n",
    "    usernames = userNamesDate\n",
    "    if username in usernames.keys():\n",
    "        print('该用户名已被注册')\n",
    "    else:\n",
    "        usernames[username] = passworld\n",
    "        print(userNamesDate)\n",
    "\n",
    "        \n",
    "        \n",
    "        \n",
    "def login(username,password):\n",
    "  \n",
    "    usernames = userNamesDate\n",
    "    \n",
    "    if username not in usernames.keys():\n",
    "        print('抱歉，你尚未注册!')\n",
    "        un = input('请输入用户名：')\n",
    "        pw = input('请输入您的密码：')\n",
    "        \n",
    "        createUser(un,pw)        \n",
    "        \n",
    "    elif password != usernames[username]:\n",
    "        print('你输入的密码错误')\n",
    "    else:\n",
    "        print('恭喜你登陆成功')\n",
    "        \n",
    "\n",
    "        \n",
    "        \n",
    "print('请输入您的用户名和密码登录')\n",
    "un = input('用户名：')\n",
    "pw = input('密码：')\n",
    "login(un,pw)"
   ]
  },
  {
   "cell_type": "markdown",
   "metadata": {},
   "source": [
    "### 定义一个学生类，有下面的属性\n",
    "- 姓名\n",
    "- 年龄\n",
    "- 成绩（语文数学英语）每门课成绩类型为整数类方法\n",
    "- 获取学生的姓名：get_name()返回类型：str\n",
    "- 获取学生的年纪：get_age()返回类型：int\n",
    "- 返回3门科目中最高的分数，get_course()返回类型：int"
   ]
  },
  {
   "cell_type": "code",
   "execution_count": 17,
   "metadata": {},
   "outputs": [
    {
     "name": "stdout",
     "output_type": "stream",
     "text": [
      "zhouzhou\n",
      "18\n",
      "Chn\n"
     ]
    }
   ],
   "source": [
    "# 取最大值字典中：max(score, key=score.get)  \n",
    "# 取最小值字典中：min(score, key=score.get)  \n",
    "\n",
    "\n",
    "class Student(object):\n",
    "    \n",
    "    def __init__(self,name,age,scores):\n",
    "        self.name = name\n",
    "        self.age = age\n",
    "        self.scores = scores\n",
    "        \n",
    "        #{'Chn':scoreChn,'Math':ScoreMath,'Eng':ScoreEng,}\n",
    "\n",
    "    def get_name(self):\n",
    "        return self.name\n",
    "    def get_age(self):\n",
    "        return self.age\n",
    "    def get_course(self):\n",
    "        # 取最大值\n",
    "        return max(self.scores, key=self.scores.get)    \n",
    "\n",
    "    \n",
    "xiaoming = Student('zhouzhou', 18, {'Chn':100,'Math':80,'Eng':60})\n",
    "\n",
    "print(xiaoming.get_name())\n",
    "print(xiaoming.get_age())\n",
    "print(xiaoming.get_course())\n",
    "        "
   ]
  },
  {
   "cell_type": "code",
   "execution_count": 22,
   "metadata": {},
   "outputs": [
    {
     "data": {
      "text/plain": [
       "101"
      ]
     },
     "execution_count": 22,
     "metadata": {},
     "output_type": "execute_result"
    }
   ],
   "source": [
    "class Student(object):\n",
    "    def __init__(self,name,age,scoreChn=0,scoreMath=0,scoreEng=0):\n",
    "        self.name = name\n",
    "        self.age = age\n",
    "        self.scoreChn = scoreChn\n",
    "        self.scoreMath = scoreMath\n",
    "        self.scoreEng = scoreEng\n",
    "        self.courses = [self.scoreChn,self.scoreMath,self.scoreEng]\n",
    "        \n",
    "    def get_name(self):\n",
    "        return self.name\n",
    "    def get_name(self):\n",
    "        return self.age\n",
    "    def get_course(self):\n",
    "        return max(self.courses)\n",
    "    \n",
    "xm = Student('xiaomi',18,scoreChn=88,scoreMath=101,scoreEng=100)\n",
    "\n",
    "xm.get_course()"
   ]
  },
  {
   "cell_type": "code",
   "execution_count": 39,
   "metadata": {},
   "outputs": [
    {
     "name": "stdout",
     "output_type": "stream",
     "text": [
      "xiaomi\n",
      "18\n",
      "92\n"
     ]
    }
   ],
   "source": [
    "class Student(object):\n",
    "    def __init__(self,name,age,scores):\n",
    "        self.name = name\n",
    "        self.age = age\n",
    "        self.scores = scores\n",
    "        \n",
    "    def get_name(self):\n",
    "        return self.name\n",
    "    def get_age(self):\n",
    "        return self.age\n",
    "    def get_course(self):\n",
    "        return max(self.scores)\n",
    "    \n",
    "xm = Student('xiaomi',18,[88,87,92])\n",
    "\n",
    "print(xm.get_name())\n",
    "print(xm.get_age())\n",
    "print(xm.get_course())\n",
    "\n"
   ]
  },
  {
   "cell_type": "markdown",
   "metadata": {},
   "source": [
    "### 定义一个字典类：DictClass，完成以下功能\n",
    "- 删除某个key del_dict(key)\n",
    "- 判断某个键是否在字典里，如果在，返回键对应的值，不在则返回not found. get_dict()\n",
    "- 返回键组成的列表，返回类型：list.    get_key()\n",
    "- 合并字典，并且返回合并后字典的value组成的列表，返回类型list.  update_dict()"
   ]
  },
  {
   "cell_type": "code",
   "execution_count": 44,
   "metadata": {},
   "outputs": [
    {
     "name": "stdout",
     "output_type": "stream",
     "text": [
      "{'Math': 80, 'Eng': 60}\n",
      "60\n",
      "dict_keys(['Math', 'Eng'])\n",
      "dict_values([80, 60, 15, 40, 30])\n",
      "{'Math': 80, 'Eng': 60}\n"
     ]
    }
   ],
   "source": [
    "# 以下是第一次凭理解写的:主要思路是继承一个dict类，然后写方法\n",
    "# 当然也可以写一个object的子类，然后再__init__中将self.dict绑定传进来的字典对象\n",
    "\n",
    "class DictClass(dict):\n",
    "    \n",
    "    # 定义方法一定要写（self）然后再些其他参数\n",
    "    def del_dict(self,key):\n",
    "        if key in self.keys():\n",
    "            self.pop(key)\n",
    "            return self\n",
    "        else:\n",
    "            return 'not found'\n",
    "    \n",
    "    def get_dict(self,key):\n",
    "        if key in self.keys():\n",
    "            return self[key]\n",
    "        else:\n",
    "            return 'not found'\n",
    "              \n",
    "    def get_key(self):\n",
    "        return self.keys()\n",
    "    \n",
    "    def update_dict(self,**dict2):\n",
    "        dicttemp = self.copy()\n",
    "        dicttemp.update(dict2)\n",
    "        return dicttemp.values()\n",
    "        \n",
    "    \n",
    "        \n",
    "d1 = DictClass({'Chn':100,'Math':80,'Eng':60})\n",
    "\n",
    "d2 = DictClass({'xxx':15,'eee':40,'hhh':30})\n",
    "\n",
    "\n",
    "d1.del_dict('Chn')\n",
    "print(d1)\n",
    "\n",
    "isKeyIn = d1.get_dict('Eng')\n",
    "print(isKeyIn)\n",
    " \n",
    "print(d1.get_key())\n",
    "        \n",
    "print(d1.update_dict(**d2))\n",
    "\n",
    "print(d1)"
   ]
  },
  {
   "cell_type": "markdown",
   "metadata": {},
   "source": [
    "### 定义一个列表的操作类Listinfo\n",
    "- 包括以下方法\n",
    "  - 列表元素添加：add_key()添加的必须是数字或者字符串\n",
    "  - 列表元素取值：get_key()\n",
    "  - 列表合并：update_list(list)\n",
    "  - 删除并且返回最后一个元素：del_key()"
   ]
  },
  {
   "cell_type": "code",
   "execution_count": 81,
   "metadata": {},
   "outputs": [
    {
     "name": "stdout",
     "output_type": "stream",
     "text": [
      "添加的非法元素\n",
      "wu\n",
      "[1, 2, 3, 'wu', 'oo', 33, 44]\n",
      "oo\n"
     ]
    }
   ],
   "source": [
    "class Listinfo(object):\n",
    "    def __init__(self,list_val):\n",
    "        self.list = list_val\n",
    "        \n",
    "    def add_key(self, item):\n",
    "        # 添加额item必须是数字或字符串\n",
    "        if isinstance(item,(str,int)):\n",
    "            self.list.append(item)\n",
    "            print(self.list)\n",
    "            return 'ok1'\n",
    "        else:\n",
    "            return '添加的非法元素'\n",
    "    \n",
    "    def get_key(self,i):\n",
    "        # 判断索引是否超出列表总数\n",
    "        if i >= 0 and i < len(self.list):\n",
    "            return self.list[i]\n",
    "        return('超出范围')\n",
    "    \n",
    "    def update_list(self,list2):\n",
    "        # self.list.extend(list2)\n",
    "        return self.list + list2\n",
    "    \n",
    "    def del_key(self):\n",
    "        # 先判断列表中是否还有元素\n",
    "        if len(self.list) > 0:\n",
    "            return self.list.pop(-1)\n",
    "        else:\n",
    "            return '列表是空的'\n",
    "        \n",
    "    #    del.self.list[1]\n",
    "    #    return self\n",
    "    \n",
    "li = Listinfo([1,2,3,'wu','oo'])\n",
    "\n",
    "print(li.add_key([1,1]))\n",
    "\n",
    "print(li.get_key(3))\n",
    "\n",
    "print(li.update_list([33,44]))\n",
    "\n",
    "\n",
    "print(li.del_key())\n",
    "\n"
   ]
  },
  {
   "cell_type": "markdown",
   "metadata": {},
   "source": [
    "### 定义一个集合的操作类\n",
    "包括方法\n",
    "  - 集合元素添加：add_setinfo()\n",
    "  - 集合的交集：get_intersection()\n",
    "  - 集合的并集：get_union()\n",
    "  - 集合的差集：del_diffrence()\n",
    "  \n"
   ]
  },
  {
   "cell_type": "code",
   "execution_count": 131,
   "metadata": {},
   "outputs": [
    {
     "name": "stdout",
     "output_type": "stream",
     "text": [
      "添加成功！\n",
      "{2, 3, 5, 7, 9, 12}\n",
      "{12}\n",
      "{2, 3, 5, 7, 9, 12, 13}\n",
      "{2, 3, 5, 7, 9}\n"
     ]
    }
   ],
   "source": [
    "class SetOperation(object):\n",
    "    \n",
    "    \n",
    "    def __init__(self,setVelue):   \n",
    "            self.sett = setVelue \n",
    "        \n",
    "    \n",
    "    def add_setinfo(self, item):                \n",
    "        self.sett.add(item)\n",
    "        print('添加成功！')\n",
    "        return self.sett\n",
    "    \n",
    "    \n",
    "    \n",
    "    # 校验参数\n",
    "    def isInst(self,setNew):\n",
    "        if isinstance(setNew,set):\n",
    "            return setNew\n",
    "        else:\n",
    "            return False\n",
    "\n",
    "    #交集\n",
    "    def get_intersection(self,setNew): \n",
    "        \n",
    "        if not self.isInst(setNew):\n",
    "            return '非法参数'\n",
    "        return self.sett & setNew       \n",
    "     \n",
    "    # 并集    \n",
    "    def get_union(self,setNew):\n",
    "        if not self.isInst(setNew):\n",
    "            return '非法参数'\n",
    "        return self.sett | setNew\n",
    "    \n",
    "    # 差集\n",
    "    def del_diffrence(self,setNew):\n",
    "        if not self.isInst(setNew):\n",
    "            return '非法参数'        \n",
    "        return self.sett - setNew\n",
    "\n",
    "\n",
    "set1 = set([2,3,5,7,9])\n",
    "set2 = set([12,13])\n",
    "\n",
    "myset = SetOperation(set1)\n",
    "\n",
    "print(myset.add_setinfo(12))\n",
    "\n",
    "print(myset.get_intersection(set2))\n",
    "\n",
    "print(myset.get_union(set2))\n",
    "\n",
    "print(myset.del_diffrence(set2))\n"
   ]
  },
  {
   "cell_type": "code",
   "execution_count": null,
   "metadata": {},
   "outputs": [],
   "source": []
  }
 ],
 "metadata": {
  "kernelspec": {
   "display_name": "Python 3",
   "language": "python",
   "name": "python3"
  },
  "language_info": {
   "codemirror_mode": {
    "name": "ipython",
    "version": 3
   },
   "file_extension": ".py",
   "mimetype": "text/x-python",
   "name": "python",
   "nbconvert_exporter": "python",
   "pygments_lexer": "ipython3",
   "version": "3.6.5"
  }
 },
 "nbformat": 4,
 "nbformat_minor": 2
}
