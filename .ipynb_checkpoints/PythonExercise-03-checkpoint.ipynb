{
 "cells": [
  {
   "cell_type": "markdown",
   "metadata": {},
   "source": [
    "### 定义一个元组\n",
    "- 单个元素\n",
    "- 多个元素"
   ]
  },
  {
   "cell_type": "code",
   "execution_count": null,
   "metadata": {},
   "outputs": [],
   "source": [
    "a = (1,2,3)\n",
    "b(2,)"
   ]
  },
  {
   "cell_type": "markdown",
   "metadata": {},
   "source": [
    "### 下面场景应该使用列表还是元组来保存数据\n",
    "- 游戏角色的属性:   元组\n",
    "- 某购物网站的商品信息（图片、价格、介绍等）：  列表\n",
    "- 动车组各组件的具体配置参数：  元组\n",
    "- 你发送给数码城的电脑配置清单：  元组，列表\n",
    "- 你的身份证信息：元组"
   ]
  },
  {
   "cell_type": "markdown",
   "metadata": {},
   "source": [
    "### 增加一点内容，按格式输出\n",
    "“鹅鹅鹅\n",
    "曲项向天歌\n",
    "白毛浮绿水\n",
    "红掌拨清波”"
   ]
  },
  {
   "cell_type": "code",
   "execution_count": 1,
   "metadata": {},
   "outputs": [
    {
     "name": "stdout",
     "output_type": "stream",
     "text": [
      "\n",
      "鹅鹅鹅\n",
      "曲项向天歌\n",
      "白毛浮绿水\n",
      "红掌拨清波\n",
      "\n"
     ]
    }
   ],
   "source": [
    "shi = '''\n",
    "鹅鹅鹅\n",
    "曲项向天歌\n",
    "白毛浮绿水\n",
    "红掌拨清波\n",
    "'''\n",
    "\n",
    "print(shi)"
   ]
  },
  {
   "cell_type": "markdown",
   "metadata": {},
   "source": [
    "### 写一个程序来管理用于登录系统的用户信息：\n",
    "- 登录名字和密码。登录用户账号建立后，已存在用户可以用登录名字和密码重返系统，新用户能用别人的用户名建立用户账号。"
   ]
  },
  {
   "cell_type": "code",
   "execution_count": 20,
   "metadata": {},
   "outputs": [
    {
     "name": "stdout",
     "output_type": "stream",
     "text": [
      "抱歉，你尚未注册\n"
     ]
    }
   ],
   "source": [
    "userNamesDate = {'mike':'123','jack':'wu178','sarah':'678'}\n",
    "# print(userNamesDate)\n",
    "\n",
    "def createUser(username,passworld):\n",
    "    '''\n",
    "    username:用户自定义的用户名\n",
    "    password:用户登陆的密码\n",
    "    '''\n",
    "    # 判断用户的名字是否已被注册\n",
    "    # 先取到数据库字典dict\n",
    "    usernames = userNamesDate\n",
    "    \n",
    "    if username in usernames.keys():\n",
    "        print('该用户名已被注册')\n",
    "    else:\n",
    "        # 如果没有没被注册就添加进数据库\n",
    "        # 实际情况是要长期存储到数据库的\n",
    "        usernames[username] = passworld\n",
    "        print(userNamesDate)\n",
    "\n",
    "# createUser('mike','123')\n",
    "    \n",
    "    \n",
    "def login(username,password):\n",
    "    '''\n",
    "    username:用户登录的用户名\n",
    "    password:用户登陆的密码\n",
    "    '''\n",
    "    usernames = userNamesDate\n",
    "    \n",
    "    if username not in usernames.keys():\n",
    "        print('抱歉，你尚未注册')\n",
    "    elif password != usernames[username]:\n",
    "        print('你输入的密码错误')\n",
    "    else:\n",
    "        print('恭喜你登陆成功')\n",
    "        \n",
    "        \n",
    "login('joo','333')\n",
    "    "
   ]
  },
  {
   "cell_type": "code",
   "execution_count": 1,
   "metadata": {},
   "outputs": [
    {
     "name": "stdout",
     "output_type": "stream",
     "text": [
      "请输入您的用户名和密码登录\n",
      "用户名：wujian\n",
      "密码：345\n",
      "抱歉，你尚未注册!\n",
      "请输入用户名：wujian345\n",
      "请输入您的密码：345\n",
      "{'mike': '123', 'jack': 'wu178', 'sarah': '678', 'wujian345': '345'}\n"
     ]
    }
   ],
   "source": [
    "# 两者的结合使用，\n",
    "# 1、用户登录\n",
    "# 2、注册\n",
    "# 3、存储数据\n",
    "userNamesDate = {'mike':'123','jack':'wu178','sarah':'678'}\n",
    "\n",
    "def createUser(username,passworld):\n",
    "    usernames = userNamesDate\n",
    "    if username in usernames.keys():\n",
    "        print('该用户名已被注册')\n",
    "    else:\n",
    "        usernames[username] = passworld\n",
    "        print(userNamesDate)\n",
    "\n",
    "        \n",
    "        \n",
    "        \n",
    "def login(username,password):\n",
    "  \n",
    "    usernames = userNamesDate\n",
    "    \n",
    "    if username not in usernames.keys():\n",
    "        print('抱歉，你尚未注册!')\n",
    "        un = input('请输入用户名：')\n",
    "        pw = input('请输入您的密码：')\n",
    "        \n",
    "        createUser(un,pw)        \n",
    "        \n",
    "    elif password != usernames[username]:\n",
    "        print('你输入的密码错误')\n",
    "    else:\n",
    "        print('恭喜你登陆成功')\n",
    "        \n",
    "\n",
    "        \n",
    "        \n",
    "print('请输入您的用户名和密码登录')\n",
    "un = input('用户名：')\n",
    "pw = input('密码：')\n",
    "login(un,pw)"
   ]
  },
  {
   "cell_type": "markdown",
   "metadata": {},
   "source": [
    "### 定义一个学生类，有下面的属性\n",
    "- 姓名\n",
    "- 年龄\n",
    "- 成绩（语文数学英语）每门课成绩类型为整数类方法\n",
    "- 获取学生的姓名：get_name()返回类型：str\n",
    "- 获取学生的年纪：get_age()返回类型：int\n",
    "- 返回3门科目中最高的分数，get_course()返回类型：int"
   ]
  },
  {
   "cell_type": "markdown",
   "metadata": {},
   "source": [
    "### 定义一个字典类：DictClass，完成以下功能\n",
    "- 删除某个key del_dict(key)\n",
    "- 判断某个键是否在字典里，如果在，返回键对应的值，不在则返回not found. get_dict()\n",
    "- 返回键组成的列表，返回类型：list.    get_key()\n",
    "- 合并字典，并且返回合并后字典的value组成的列表，返回类型list.  update_dict()"
   ]
  },
  {
   "cell_type": "markdown",
   "metadata": {},
   "source": [
    "### 定义一个列表的操作类Listinfo\n",
    "- 包括以下方法\n",
    "  - 列表元素添加：add_key()\n",
    "  - 列表元素取值：get_key()\n",
    "  - 列表合并：update_list(list)\n",
    "  - 删除并且返回最后一个元素：del_key()"
   ]
  }
 ],
 "metadata": {
  "kernelspec": {
   "display_name": "Python 3",
   "language": "python",
   "name": "python3"
  },
  "language_info": {
   "codemirror_mode": {
    "name": "ipython",
    "version": 3
   },
   "file_extension": ".py",
   "mimetype": "text/x-python",
   "name": "python",
   "nbconvert_exporter": "python",
   "pygments_lexer": "ipython3",
   "version": "3.6.5"
  }
 },
 "nbformat": 4,
 "nbformat_minor": 2
}
