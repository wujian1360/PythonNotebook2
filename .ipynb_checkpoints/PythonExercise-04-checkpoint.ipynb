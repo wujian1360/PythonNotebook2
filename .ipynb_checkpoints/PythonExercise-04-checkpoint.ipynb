{
 "cells": [
  {
   "cell_type": "markdown",
   "metadata": {},
   "source": [
    "### 创建北京和成都两个校区\n",
    "- 创建Linux和Python两门课程\n",
    "- 创建北京校区的Python 3期课程和成都小区的linux 1期课程\n",
    "- 管理员创建了北京校区的学员小张，并将他分配到了Python 3期\n",
    "- 管理员创建了讲师小周，并将其分配给了Python 3期\n",
    "- 讲师小周创建了一条Python 3期的上课记录 Day02\n",
    "- 讲师小周为Day02这节课所有的学员批改了作业，小张得了A，小王得了B\n",
    "- 学员小李查看了自己所报的课程\n",
    "- 学员小李在查看了自己在Python 3的成绩列表后退出了\n",
    "- 学员小张给了讲师小周好评"
   ]
  }
 ],
 "metadata": {
  "kernelspec": {
   "display_name": "Python 3",
   "language": "python",
   "name": "python3"
  },
  "language_info": {
   "codemirror_mode": {
    "name": "ipython",
    "version": 3
   },
   "file_extension": ".py",
   "mimetype": "text/x-python",
   "name": "python",
   "nbconvert_exporter": "python",
   "pygments_lexer": "ipython3",
   "version": "3.6.5"
  }
 },
 "nbformat": 4,
 "nbformat_minor": 2
}
