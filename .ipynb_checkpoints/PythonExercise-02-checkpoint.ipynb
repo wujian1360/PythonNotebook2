{
 "cells": [
  {
   "cell_type": "markdown",
   "metadata": {},
   "source": [
    "### 求100-999之间的水仙花数\n",
    "- 如果一个3位数等于其各位数字的立方和，则称这个数为水仙花数。\n",
    "- 例如：153 = 1^3 + 5^3 +3^3,因此153就是一个水仙花数。"
   ]
  },
  {
   "cell_type": "code",
   "execution_count": 31,
   "metadata": {},
   "outputs": [
    {
     "name": "stdout",
     "output_type": "stream",
     "text": [
      "153\n",
      "370\n",
      "371\n",
      "407\n",
      "========================================\n",
      "153\n",
      "370\n",
      "371\n",
      "407\n"
     ]
    }
   ],
   "source": [
    "a = 2\n",
    "b = 2\n",
    "c = 1\n",
    "\n",
    "# sumNumber = a**3 + b**3 + c**3\n",
    "\n",
    "#用整数做\n",
    "for iNumber in range(100,1000):\n",
    "    i = int(iNumber/100)\n",
    "    j = int(iNumber%100/10)\n",
    "    k = int(iNumber%10)\n",
    "    sumCube = i**3 + j**3 + k**3\n",
    "    \n",
    "    if iNumber == sumCube:\n",
    "        print(sumCube)\n",
    "        \n",
    "print('=='*20)\n",
    "\n",
    "#用字符串做\n",
    "for iNumber in range(100,1000):\n",
    "    temp = list(str(iNumber))\n",
    "    i = int(temp[0])\n",
    "    j = int(temp[1])\n",
    "    k = int(temp[2])\n",
    "\n",
    "    sumCube = i**3 + j**3 + k**3\n",
    "    \n",
    "    if iNumber == sumCube:\n",
    "        print(sumCube)\n"
   ]
  },
  {
   "cell_type": "markdown",
   "metadata": {},
   "source": [
    "### 三色球问题\n",
    "- 有红、黄、蓝三种颜色的球，其中红球3个，黄球3个，绿球6个。\n",
    "- 先将这12个球混合放在一个盒子中，从中任意摸出8个球，编程计算摸出球的各种颜色搭配。"
   ]
  },
  {
   "cell_type": "code",
   "execution_count": 58,
   "metadata": {},
   "outputs": [
    {
     "name": "stdout",
     "output_type": "stream",
     "text": [
      "8个球的颜色搭配1：红球0 黄球2 绿球6\n",
      "8个球的颜色搭配2：红球0 黄球3 绿球5\n",
      "8个球的颜色搭配3：红球1 黄球1 绿球6\n",
      "8个球的颜色搭配4：红球1 黄球2 绿球5\n",
      "8个球的颜色搭配5：红球1 黄球3 绿球4\n",
      "8个球的颜色搭配6：红球2 黄球0 绿球6\n",
      "8个球的颜色搭配7：红球2 黄球1 绿球5\n",
      "8个球的颜色搭配8：红球2 黄球2 绿球4\n",
      "8个球的颜色搭配9：红球2 黄球3 绿球3\n",
      "8个球的颜色搭配10：红球3 黄球0 绿球5\n",
      "8个球的颜色搭配11：红球3 黄球1 绿球4\n",
      "8个球的颜色搭配12：红球3 黄球2 绿球3\n",
      "8个球的颜色搭配13：红球3 黄球3 绿球2\n",
      "13\n"
     ]
    }
   ],
   "source": [
    "redNum = 3\n",
    "yelNum = 3\n",
    "grnNum = 6\n",
    "numOfTimes = 8\n",
    "\n",
    "# 计算每一种球出现个数的区间，3个红球，就有4种情况。（无、1个、2个、3个）\n",
    "redR = redNum + 1\n",
    "yelR = yelNum + 1\n",
    "# 绿球以外只有6个球，但每次要拿8个球，所以绿球起点就是2个，一共6个球，所以终点是6+1\n",
    "grnRS = numOfTimes - redNum - yelNum\n",
    "grnRE = grnNum + 1\n",
    "\n",
    "n=1\n",
    "for r in range(redR):\n",
    "    for y in range(yelR):\n",
    "        for g in range(grnRS,grnRE):\n",
    "            if (r+y+g)==8:\n",
    "                print('8个球的颜色搭配{0}：红球{1} 黄球{2} 绿球{3}'.format(n,r,y,g))\n",
    "                n += 1\n",
    "                \n",
    "print(n-1)            \n",
    "\n"
   ]
  },
  {
   "cell_type": "markdown",
   "metadata": {},
   "source": [
    "### append()  extend()  insert()"
   ]
  },
  {
   "cell_type": "code",
   "execution_count": 82,
   "metadata": {},
   "outputs": [
    {
     "name": "stdout",
     "output_type": "stream",
     "text": [
      "[1, 2, 3, 1, 5]\n",
      "2\n",
      "[1, 2, 3, 1, 5, 100, 200, 300]\n",
      "[1, 2, 99, 3, 1, 5, 100, 200, 300]\n"
     ]
    }
   ],
   "source": [
    "a = [1,2,3,1]\n",
    "a.append(5)\n",
    "print(a)\n",
    "\n",
    "# 计算列表中包含几个此对象\n",
    "print(a.count(1))\n",
    "\n",
    "b = [100,200,300]\n",
    "\n",
    "# 将b列表插入到a列表的后面\n",
    "a.extend(b)\n",
    "print(a)\n",
    "\n",
    "# L.insert(index, object) -- insert object before index\n",
    "# 在下标2的位置加入对象99\n",
    "a.insert(2,99)\n",
    "print(a)\n",
    "\n",
    "\n"
   ]
  },
  {
   "cell_type": "code",
   "execution_count": 85,
   "metadata": {},
   "outputs": [
    {
     "name": "stdout",
     "output_type": "stream",
     "text": [
      "['图灵', 99, '的', 88, '周老师', 77, '是最帅的', 666]\n"
     ]
    }
   ],
   "source": [
    "# 一个列表 member = ['图灵','的','周老师','是最帅的']\n",
    "# 让他变成 member = ['图灵',99,'的','88','周老师',77,'是最帅的',666]应该怎么做？\n",
    "member = ['图灵','的','周老师','是最帅的']\n",
    "\n",
    "member.insert(1,99)\n",
    "member.insert(3,88)\n",
    "member.insert(5,77)\n",
    "member.append(666)\n",
    "print(member)"
   ]
  },
  {
   "cell_type": "code",
   "execution_count": 87,
   "metadata": {},
   "outputs": [
    {
     "name": "stdout",
     "output_type": "stream",
     "text": [
      "[1, [1, 2, ['周老师']], 3, 5, 6, 13, 18]\n"
     ]
    }
   ],
   "source": [
    "# 如何将下面列表中的'图灵学院'，'改为周老师'\n",
    "ls = [1,[1,2,['图灵学院']],3,5,6,13,18]\n",
    "ls[1][2][0] = '周老师'\n",
    "\n",
    "print(ls)"
   ]
  },
  {
   "cell_type": "code",
   "execution_count": 96,
   "metadata": {},
   "outputs": [
    {
     "name": "stdout",
     "output_type": "stream",
     "text": [
      "[(0, 1), (0, 3), (0, 5), (0, 7), (0, 9), (2, 1), (2, 3), (2, 5), (2, 7), (2, 9), (4, 1), (4, 3), (4, 5), (4, 7), (4, 9), (6, 1), (6, 3), (6, 5), (6, 7), (6, 9), (8, 1), (8, 3), (8, 5), (8, 7), (8, 9)]\n",
      "--------------------------------------------------------------------------------\n",
      "[(0, 1), (0, 3), (0, 5), (0, 7), (0, 9), (2, 1), (2, 3), (2, 5), (2, 7), (2, 9), (4, 1), (4, 3), (4, 5), (4, 7), (4, 9), (6, 1), (6, 3), (6, 5), (6, 7), (6, 9), (8, 1), (8, 3), (8, 5), (8, 7), (8, 9)]\n"
     ]
    }
   ],
   "source": [
    "# 将列表推导式还原出来\n",
    "# ls = [(x,y) for x in range(10) for y in range(10) if x%2==0 if y%2!=0]\n",
    "\n",
    "ls = [(x,y) for x in range(10) for y in range(10) if x%2==0 if y%2!=0]\n",
    "print(ls)\n",
    "\n",
    "print('--'*40)\n",
    "\n",
    "ls = []\n",
    "for x in range(10):\n",
    "    for y in range(10):\n",
    "        if x%2==0 and y%2!=0:\n",
    "            ls.append((x,y))\n",
    "\n",
    "print(ls)\n"
   ]
  },
  {
   "cell_type": "code",
   "execution_count": null,
   "metadata": {
    "collapsed": true
   },
   "outputs": [],
   "source": []
  }
 ],
 "metadata": {
  "kernelspec": {
   "display_name": "Python 3",
   "language": "python",
   "name": "python3"
  },
  "language_info": {
   "codemirror_mode": {
    "name": "ipython",
    "version": 3
   },
   "file_extension": ".py",
   "mimetype": "text/x-python",
   "name": "python",
   "nbconvert_exporter": "python",
   "pygments_lexer": "ipython3",
   "version": "3.6.5"
  }
 },
 "nbformat": 4,
 "nbformat_minor": 2
}
